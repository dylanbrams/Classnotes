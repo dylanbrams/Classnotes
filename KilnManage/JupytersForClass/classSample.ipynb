{
 "cells": [
  {
   "cell_type": "code",
   "execution_count": 7,
   "metadata": {
    "collapsed": true
   },
   "outputs": [
    {
     "name": "stdout",
     "output_type": "stream",
     "text": [
      "Room Type: Standard Size: 0\nRoom Type: Cafeteria Size: 1 Employees: 4\n"
     ]
    }
   ],
   "source": [
    "class Room:\n",
    "    def __init__(self, room_type, size):\n",
    "        self.room_type = room_type\n",
    "        self.size = size\n",
    "        \n",
    "    def __repr__(self):\n",
    "        return (f\"Room Type: {self.room_type} \"+ \n",
    "                f\"Size: {str(self.size)}\")\n",
    "    \n",
    "    \n",
    "class Cafeteria(Room):\n",
    "    def __init__(self, size, employees):\n",
    "        super(Cafeteria, self).\\\n",
    "            __init__('Cafeteria', size)\n",
    "        self.employees = employees\n",
    "        \n",
    "    def __repr__(self):\n",
    "        return ( super(Cafeteria, self).__repr__() +\n",
    "                 f\" Employees: {self.employees}\")\n",
    "        \n",
    "myStandardRoom = Room('Standard', 0)\n",
    "myLunchroom = Cafeteria(1, 4)\n",
    "print(myStandardRoom.__repr__())\n",
    "print(myLunchroom.__repr__())\n",
    "\n",
    "return(\"Room Type: \" + myStandardRoom.room_type + \"\")"
   ]
  },
  {
   "cell_type": "code",
   "execution_count": 2,
   "metadata": {},
   "outputs": [],
   "source": [
    "rocks = ['a', True, None, float('-inf')]"
   ]
  },
  {
   "cell_type": "code",
   "execution_count": null,
   "metadata": {},
   "outputs": [],
   "source": [
    ""
   ]
  }
 ],
 "metadata": {
  "kernelspec": {
   "display_name": "Python 2",
   "language": "python",
   "name": "python2"
  },
  "language_info": {
   "codemirror_mode": {
    "name": "ipython",
    "version": 2.0
   },
   "file_extension": ".py",
   "mimetype": "text/x-python",
   "name": "python",
   "nbconvert_exporter": "python",
   "pygments_lexer": "ipython2",
   "version": "2.7.6"
  }
 },
 "nbformat": 4,
 "nbformat_minor": 0
}